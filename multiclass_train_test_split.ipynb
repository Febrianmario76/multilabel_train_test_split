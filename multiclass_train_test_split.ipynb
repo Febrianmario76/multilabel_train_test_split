{
 "cells": [
  {
   "cell_type": "code",
   "execution_count": 1,
   "metadata": {},
   "outputs": [],
   "source": [
    "import numpy as np\n",
    "import matplotlib.pyplot as plt\n",
    "%matplotlib inline"
   ]
  },
  {
   "cell_type": "markdown",
   "metadata": {},
   "source": [
    "### Full alg"
   ]
  },
  {
   "cell_type": "code",
   "execution_count": 51,
   "metadata": {},
   "outputs": [],
   "source": [
    "def get_score(data, spilt):\n",
    "    x1 = data[spilt==1].sum(axis=0)/data[spilt==1].sum()\n",
    "    x2 = data[spilt==0].sum(axis=0)/data[spilt==0].sum()\n",
    "    return np.linalg.norm(x1-x2)\n",
    "    \n",
    "def show_class_disb(data, split):\n",
    "    train = (data[split==1].sum(axis=0)/data[split==1].sum())\n",
    "    test = (data[split==0].sum(axis=0)/data[split==0].sum())\n",
    "    return train-test\n",
    "\n",
    "def train_test_split(data, split, num_iter=10):\n",
    "    scores = list()\n",
    "    scores.append(get_score(data, split))\n",
    "    print(\"Initial class distribution diff initial: \",show_class_disb(data, split))\n",
    "    \n",
    "    for i in range(num_iter):\n",
    "        diff = data[split==0][:,:,None] - np.transpose(data[split==1], (1, 0))[None,:,:]\n",
    "        d1, d2 = data[split==1].sum(axis=0), data[split==0].sum(axis=0)\n",
    "        ch_matr1 = (d1[None,:,None]+diff)\n",
    "        ch_matr2 = (d2[None,:,None]-diff)\n",
    "        ch_matr1 = ch_matr1/ch_matr1.sum(axis=1, keepdims=True)\n",
    "        ch_matr2 = ch_matr2/ch_matr2.sum(axis=1, keepdims=True)\n",
    "        potential_scores = ((ch_matr1 - ch_matr2)**2).sum(axis=1)\n",
    "        r_ind, l_ind = np.where(potential_scores==np.min(potential_scores))\n",
    "        r_ind, l_ind = np.where(split==0)[0][r_ind], np.where(split==1)[0][l_ind]\n",
    "        split[r_ind] = 1\n",
    "        split[l_ind] = 0\n",
    "        scores.append(get_score(data, split))\n",
    "        \n",
    "        if (i>5):\n",
    "            change_metric = (np.diff(scores[-5:])/np.array(scores[-5:-1])).mean()\n",
    "            if change_metric > -0.01:\n",
    "                break\n",
    "        \n",
    "    plt.plot(scores)\n",
    "    print(\"Final class distribution diff: \",show_class_disb(data, split))\n",
    "    return split"
   ]
  },
  {
   "cell_type": "code",
   "execution_count": 52,
   "metadata": {},
   "outputs": [],
   "source": [
    "data = np.random.randint(0,5, size=(100,10))\n",
    "train_ind = np.concatenate([np.ones(70), np.zeros(30)])"
   ]
  },
  {
   "cell_type": "code",
   "execution_count": 53,
   "metadata": {},
   "outputs": [
    {
     "name": "stdout",
     "output_type": "stream",
     "text": [
      "Initial class distribution diff initial:  [ 0.02376294 -0.00255686 -0.00847978  0.00323925  0.00146986 -0.0107371\n",
      " -0.00885056 -0.01337488 -0.0033407   0.01886783]\n",
      "Final class distribution diff:  [ 0.00051448  0.00094678 -0.00019174 -0.00078243 -0.00023461 -0.00195072\n",
      "  0.00176851 -0.00274269  0.00231634  0.00035608]\n"
     ]
    },
    {
     "data": {
      "image/png": "[encoded data removed]",
      "text/plain": [
       "<Figure size 432x288 with 1 Axes>"
      ]
     },
     "metadata": {
      "needs_background": "light"
     },
     "output_type": "display_data"
    }
   ],
   "source": [
    "train_test_split(data, train_ind, num_iter=100)"
   ]
  }
 ],
 "metadata": {
  "kernelspec": {
   "display_name": "Python 3",
   "language": "python",
   "name": "python3"
  },
  "language_info": {
   "codemirror_mode": {
    "name": "ipython",
    "version": 3
   },
   "file_extension": ".py",
   "mimetype": "text/x-python",
   "name": "python",
   "nbconvert_exporter": "python",
   "pygments_lexer": "ipython3",
   "version": "3.7.3"
  }
 },
 "nbformat": 4,
 "nbformat_minor": 2
}
